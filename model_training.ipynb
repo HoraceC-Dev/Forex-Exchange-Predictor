{
 "cells": [
  {
   "cell_type": "code",
   "execution_count": 1,
   "metadata": {},
   "outputs": [],
   "source": [
    "import torch\n",
    "import torch.nn as nn\n",
    "import pandas as pd\n",
    "import numpy as np\n",
    "\n",
    "from src.data_processing import get_data,prepare_data\n",
    "from src.model import CustomModel\n",
    "from src.train import train_model\n",
    "from src.evaluate import evaluate_model\n",
    "from src.utils import graph_generator"
   ]
  },
  {
   "cell_type": "code",
   "execution_count": 2,
   "metadata": {},
   "outputs": [
    {
     "name": "stdout",
     "output_type": "stream",
     "text": [
      "         Open     High      Low    Close Volume  Label\n",
      "0     1.39152  1.39503  1.38894  1.39455  18255      1\n",
      "1     1.39454  1.39564  1.39306  1.39539   4453      1\n",
      "2     1.39542  1.39764  1.39393   1.3944   6266      1\n",
      "3     1.39442  1.39696   1.3942  1.39624  13054      1\n",
      "4     1.39624  1.39672  1.39317  1.39484  16614      1\n",
      "...       ...      ...      ...      ...    ...    ...\n",
      "4995  1.27997  1.28211  1.27773   1.2784  25359      2\n",
      "4996  1.27841  1.27902  1.27781  1.27897  14310      2\n",
      "4997  1.27897    1.279  1.27829  1.27879   3831      2\n",
      "4998   1.2788  1.27944  1.27839  1.27921  10052      2\n",
      "4999  1.27922  1.27962  1.27882    1.279   4874      2\n",
      "\n",
      "[5000 rows x 6 columns]\n"
     ]
    }
   ],
   "source": [
    "df = get_data(\"dataset/GBPUSD_H4_data.csv\")"
   ]
  },
  {
   "cell_type": "code",
   "execution_count": 3,
   "metadata": {},
   "outputs": [],
   "source": [
    "# Prepare data for training\n",
    "\n",
    "device = torch.device('cuda' if torch.cuda.is_available() else 'cpu')\n",
    "prediction_length = 3\n",
    "time_step = 50\n",
    "\n",
    "X_train, X_val, X_test, y_train, y_val, y_test = prepare_data(df, device, time_step, prediction_length)"
   ]
  },
  {
   "cell_type": "code",
   "execution_count": 4,
   "metadata": {},
   "outputs": [],
   "source": [
    "input_size = X_train.shape[2]\n",
    "hidden_size = 128\n",
    "output_size = 3\n",
    "num_layers = 1\n",
    "learning_rate = 0.001\n",
    "\n",
    "# Define model, criterion, and optimizer\n",
    "model = CustomModel(input_size, hidden_size, output_size, num_layers,prediction_length)\n",
    "criterion = nn.CrossEntropyLoss()\n",
    "optimizer = torch.optim.Adam(model.parameters(), lr=learning_rate)"
   ]
  },
  {
   "cell_type": "code",
   "execution_count": 5,
   "metadata": {},
   "outputs": [
    {
     "name": "stdout",
     "output_type": "stream",
     "text": [
      "Epoch [10/1000], Loss: 3.2705, Validation Loss: 3.2475, Validation Accuracy: 40.47%\n",
      "Epoch [20/1000], Loss: 3.2574, Validation Loss: 3.2405, Validation Accuracy: 41.14%\n",
      "Epoch [30/1000], Loss: 3.1977, Validation Loss: 3.1956, Validation Accuracy: 45.12%\n",
      "Epoch [40/1000], Loss: 3.1552, Validation Loss: 3.1392, Validation Accuracy: 47.61%\n",
      "Epoch [50/1000], Loss: 3.1403, Validation Loss: 3.1126, Validation Accuracy: 49.16%\n",
      "Epoch [60/1000], Loss: 3.0897, Validation Loss: 3.0904, Validation Accuracy: 50.30%\n",
      "Epoch [70/1000], Loss: 3.0484, Validation Loss: 3.0669, Validation Accuracy: 50.03%\n",
      "Epoch [80/1000], Loss: 2.9634, Validation Loss: 2.9924, Validation Accuracy: 53.27%\n",
      "Epoch [90/1000], Loss: 3.1330, Validation Loss: 3.1211, Validation Accuracy: 44.18%\n",
      "Epoch [100/1000], Loss: 3.0295, Validation Loss: 3.0072, Validation Accuracy: 52.79%\n",
      "Epoch [110/1000], Loss: 2.8662, Validation Loss: 2.8662, Validation Accuracy: 55.08%\n",
      "Epoch [120/1000], Loss: 2.7652, Validation Loss: 2.8196, Validation Accuracy: 56.36%\n",
      "Epoch [130/1000], Loss: 2.6813, Validation Loss: 2.7287, Validation Accuracy: 57.51%\n",
      "Epoch [140/1000], Loss: 2.6353, Validation Loss: 2.6702, Validation Accuracy: 57.04%\n",
      "Epoch [150/1000], Loss: 2.5864, Validation Loss: 2.6682, Validation Accuracy: 58.32%\n",
      "Epoch [160/1000], Loss: 2.5742, Validation Loss: 2.6053, Validation Accuracy: 60.81%\n",
      "Epoch [170/1000], Loss: 2.5203, Validation Loss: 2.5914, Validation Accuracy: 62.83%\n",
      "Epoch [180/1000], Loss: 2.5004, Validation Loss: 2.5435, Validation Accuracy: 62.49%\n",
      "Epoch [190/1000], Loss: 2.4695, Validation Loss: 2.5271, Validation Accuracy: 62.83%\n",
      "Epoch [200/1000], Loss: 2.8571, Validation Loss: 3.0152, Validation Accuracy: 55.89%\n",
      "Epoch [210/1000], Loss: 2.9318, Validation Loss: 2.8876, Validation Accuracy: 56.30%\n",
      "Epoch [220/1000], Loss: 2.7259, Validation Loss: 2.7123, Validation Accuracy: 59.12%\n",
      "Epoch [230/1000], Loss: 2.6495, Validation Loss: 2.6788, Validation Accuracy: 58.18%\n",
      "Epoch [240/1000], Loss: 2.5974, Validation Loss: 2.6598, Validation Accuracy: 59.33%\n",
      "Epoch [250/1000], Loss: 2.5338, Validation Loss: 2.6040, Validation Accuracy: 60.47%\n",
      "Epoch [260/1000], Loss: 2.4770, Validation Loss: 2.5653, Validation Accuracy: 59.73%\n",
      "Epoch [270/1000], Loss: 2.4746, Validation Loss: 2.4828, Validation Accuracy: 61.21%\n",
      "Epoch [280/1000], Loss: 2.4392, Validation Loss: 2.4699, Validation Accuracy: 62.02%\n",
      "Epoch [290/1000], Loss: 2.4006, Validation Loss: 2.4595, Validation Accuracy: 62.49%\n",
      "Epoch [300/1000], Loss: 2.4070, Validation Loss: 2.4691, Validation Accuracy: 62.49%\n",
      "Epoch [310/1000], Loss: 2.3572, Validation Loss: 2.4321, Validation Accuracy: 65.86%\n",
      "Epoch [320/1000], Loss: 2.3707, Validation Loss: 2.5119, Validation Accuracy: 65.05%\n",
      "Epoch [330/1000], Loss: 2.3548, Validation Loss: 2.4069, Validation Accuracy: 64.85%\n",
      "Epoch [340/1000], Loss: 2.3880, Validation Loss: 2.3950, Validation Accuracy: 65.72%\n",
      "Epoch [350/1000], Loss: 2.3092, Validation Loss: 2.3674, Validation Accuracy: 65.66%\n",
      "Epoch [360/1000], Loss: 2.2560, Validation Loss: 2.3381, Validation Accuracy: 67.27%\n",
      "Epoch [370/1000], Loss: 2.2346, Validation Loss: 2.3401, Validation Accuracy: 69.36%\n",
      "Epoch [380/1000], Loss: 2.2295, Validation Loss: 2.3320, Validation Accuracy: 70.44%\n",
      "Epoch [390/1000], Loss: 2.2520, Validation Loss: 2.3592, Validation Accuracy: 67.27%\n",
      "Epoch [400/1000], Loss: 2.2936, Validation Loss: 2.2880, Validation Accuracy: 65.52%\n",
      "Epoch [410/1000], Loss: 2.2655, Validation Loss: 2.3556, Validation Accuracy: 69.29%\n",
      "Epoch [420/1000], Loss: 2.2115, Validation Loss: 2.2202, Validation Accuracy: 67.81%\n",
      "Epoch [430/1000], Loss: 2.2149, Validation Loss: 2.2686, Validation Accuracy: 67.81%\n",
      "Epoch [440/1000], Loss: 2.1434, Validation Loss: 2.2344, Validation Accuracy: 68.96%\n",
      "Epoch [450/1000], Loss: 2.1725, Validation Loss: 2.1958, Validation Accuracy: 71.04%\n",
      "Epoch [460/1000], Loss: 2.1303, Validation Loss: 2.1656, Validation Accuracy: 69.70%\n",
      "Epoch [470/1000], Loss: 2.1780, Validation Loss: 2.4217, Validation Accuracy: 63.64%\n",
      "Epoch [480/1000], Loss: 2.1135, Validation Loss: 2.1636, Validation Accuracy: 69.16%\n",
      "Epoch [490/1000], Loss: 2.0303, Validation Loss: 2.0690, Validation Accuracy: 73.13%\n",
      "Epoch [500/1000], Loss: 2.2491, Validation Loss: 2.2275, Validation Accuracy: 70.17%\n",
      "Epoch [510/1000], Loss: 2.1044, Validation Loss: 2.2020, Validation Accuracy: 68.89%\n",
      "Epoch [520/1000], Loss: 2.0039, Validation Loss: 2.0684, Validation Accuracy: 71.52%\n",
      "Epoch [530/1000], Loss: 2.0384, Validation Loss: 2.2426, Validation Accuracy: 68.48%\n",
      "Epoch [540/1000], Loss: 2.0117, Validation Loss: 2.0041, Validation Accuracy: 73.20%\n",
      "Epoch [550/1000], Loss: 2.0785, Validation Loss: 2.1690, Validation Accuracy: 70.84%\n",
      "Epoch [560/1000], Loss: 1.9946, Validation Loss: 2.0360, Validation Accuracy: 73.00%\n",
      "Epoch [570/1000], Loss: 1.8978, Validation Loss: 2.0632, Validation Accuracy: 73.13%\n",
      "Epoch [580/1000], Loss: 2.0310, Validation Loss: 1.9807, Validation Accuracy: 74.61%\n",
      "Epoch [590/1000], Loss: 1.8745, Validation Loss: 2.1524, Validation Accuracy: 71.45%\n",
      "Epoch [600/1000], Loss: 1.9722, Validation Loss: 2.0015, Validation Accuracy: 74.28%\n",
      "Epoch [610/1000], Loss: 1.9172, Validation Loss: 1.9750, Validation Accuracy: 73.87%\n",
      "Epoch [620/1000], Loss: 2.0105, Validation Loss: 1.9938, Validation Accuracy: 75.15%\n",
      "Epoch [630/1000], Loss: 1.8978, Validation Loss: 2.1250, Validation Accuracy: 71.04%\n",
      "Epoch [640/1000], Loss: 1.8555, Validation Loss: 1.9166, Validation Accuracy: 75.76%\n",
      "Epoch [650/1000], Loss: 1.7763, Validation Loss: 1.9524, Validation Accuracy: 75.82%\n",
      "Epoch [660/1000], Loss: 2.4461, Validation Loss: 2.0132, Validation Accuracy: 73.47%\n",
      "Epoch [670/1000], Loss: 1.9189, Validation Loss: 1.9999, Validation Accuracy: 75.15%\n",
      "Epoch [680/1000], Loss: 1.8470, Validation Loss: 1.8707, Validation Accuracy: 76.90%\n",
      "Epoch [690/1000], Loss: 1.8111, Validation Loss: 1.9724, Validation Accuracy: 72.59%\n",
      "Epoch [700/1000], Loss: 1.9238, Validation Loss: 1.9962, Validation Accuracy: 75.29%\n",
      "Epoch [710/1000], Loss: 2.0121, Validation Loss: 2.0659, Validation Accuracy: 73.06%\n",
      "Epoch [720/1000], Loss: 1.7713, Validation Loss: 1.9401, Validation Accuracy: 76.90%\n",
      "Epoch [730/1000], Loss: 1.7780, Validation Loss: 1.9675, Validation Accuracy: 75.15%\n",
      "Epoch [740/1000], Loss: 1.7399, Validation Loss: 1.8575, Validation Accuracy: 76.36%\n",
      "Epoch [750/1000], Loss: 1.6091, Validation Loss: 1.8233, Validation Accuracy: 76.50%\n",
      "Epoch [760/1000], Loss: 1.6571, Validation Loss: 1.9453, Validation Accuracy: 74.95%\n",
      "Epoch [770/1000], Loss: 1.7779, Validation Loss: 2.1594, Validation Accuracy: 69.49%\n",
      "Epoch [780/1000], Loss: 1.7373, Validation Loss: 1.8888, Validation Accuracy: 76.03%\n",
      "Epoch [790/1000], Loss: 1.6408, Validation Loss: 1.7730, Validation Accuracy: 77.78%\n",
      "Epoch [800/1000], Loss: 1.5510, Validation Loss: 1.8264, Validation Accuracy: 76.36%\n",
      "Epoch [810/1000], Loss: 1.6763, Validation Loss: 1.8106, Validation Accuracy: 77.64%\n",
      "Epoch [820/1000], Loss: 1.5121, Validation Loss: 1.7449, Validation Accuracy: 77.71%\n",
      "Epoch [830/1000], Loss: 1.6349, Validation Loss: 1.8964, Validation Accuracy: 75.56%\n",
      "Epoch [840/1000], Loss: 1.5881, Validation Loss: 1.7502, Validation Accuracy: 78.05%\n",
      "Epoch [850/1000], Loss: 1.5012, Validation Loss: 1.7487, Validation Accuracy: 79.12%\n",
      "Epoch [860/1000], Loss: 1.4390, Validation Loss: 1.6338, Validation Accuracy: 80.54%\n",
      "Epoch [870/1000], Loss: 1.3615, Validation Loss: 1.6174, Validation Accuracy: 80.81%\n",
      "Epoch [880/1000], Loss: 1.6629, Validation Loss: 1.9144, Validation Accuracy: 74.55%\n",
      "Epoch [890/1000], Loss: 1.9094, Validation Loss: 1.8870, Validation Accuracy: 75.89%\n",
      "Epoch [900/1000], Loss: 1.6402, Validation Loss: 1.8112, Validation Accuracy: 75.35%\n",
      "Epoch [910/1000], Loss: 1.4660, Validation Loss: 1.6955, Validation Accuracy: 78.05%\n",
      "Epoch [920/1000], Loss: 1.5833, Validation Loss: 1.6747, Validation Accuracy: 78.65%\n",
      "Epoch [930/1000], Loss: 1.3771, Validation Loss: 1.5763, Validation Accuracy: 79.26%\n",
      "Epoch [940/1000], Loss: 1.4430, Validation Loss: 1.7982, Validation Accuracy: 76.50%\n",
      "Epoch [950/1000], Loss: 1.3400, Validation Loss: 1.6586, Validation Accuracy: 78.18%\n",
      "Epoch [960/1000], Loss: 1.2962, Validation Loss: 1.4935, Validation Accuracy: 81.95%\n",
      "Epoch [970/1000], Loss: 1.2337, Validation Loss: 1.5195, Validation Accuracy: 80.27%\n",
      "Epoch [980/1000], Loss: 1.7262, Validation Loss: 1.9190, Validation Accuracy: 75.76%\n",
      "Epoch [990/1000], Loss: 1.4930, Validation Loss: 1.6378, Validation Accuracy: 78.32%\n",
      "Epoch [1000/1000], Loss: 1.3490, Validation Loss: 1.5394, Validation Accuracy: 81.08%\n"
     ]
    }
   ],
   "source": [
    "num_epochs = 1000\n",
    "# Train the model\n",
    "best_model_state,val_loss_data,train_loss_data,learning_rates = train_model(model, X_train, y_train, X_val, y_val, criterion, optimizer, num_epochs, device)"
   ]
  },
  {
   "cell_type": "code",
   "execution_count": 6,
   "metadata": {},
   "outputs": [
    {
     "data": {
      "text/plain": [
       "<Figure size 640x480 with 0 Axes>"
      ]
     },
     "metadata": {},
     "output_type": "display_data"
    }
   ],
   "source": [
    "graph_generator(val_loss_data,train_loss_data,learning_rates)"
   ]
  },
  {
   "cell_type": "code",
   "execution_count": 7,
   "metadata": {},
   "outputs": [],
   "source": [
    "model.load_state_dict(best_model_state)\n",
    "model_save_path = 'model/model.pth'\n",
    "\n",
    "torch.save(model.state_dict(), model_save_path)"
   ]
  },
  {
   "cell_type": "code",
   "execution_count": 8,
   "metadata": {},
   "outputs": [
    {
     "name": "stdout",
     "output_type": "stream",
     "text": [
      "Test Loss: 1.3777, Test Accuracy: 80.91%\n",
      "              precision    recall  f1-score   support\n",
      "\n",
      "        Down       0.83      0.84      0.84      1141\n",
      " Fluctuating       0.75      0.67      0.71       902\n",
      "          Up       0.84      0.90      0.87       927\n",
      "\n",
      "    accuracy                           0.81      2970\n",
      "   macro avg       0.80      0.81      0.80      2970\n",
      "weighted avg       0.81      0.81      0.81      2970\n",
      "\n"
     ]
    }
   ],
   "source": [
    "evaluate_model(model, X_test, y_test, criterion, device)"
   ]
  }
 ],
 "metadata": {
  "kernelspec": {
   "display_name": "venv",
   "language": "python",
   "name": "python3"
  },
  "language_info": {
   "codemirror_mode": {
    "name": "ipython",
    "version": 3
   },
   "file_extension": ".py",
   "mimetype": "text/x-python",
   "name": "python",
   "nbconvert_exporter": "python",
   "pygments_lexer": "ipython3",
   "version": "3.12.7"
  }
 },
 "nbformat": 4,
 "nbformat_minor": 2
}
